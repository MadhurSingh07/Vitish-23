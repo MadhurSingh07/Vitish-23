{
  "cells": [
    {
      "cell_type": "markdown",
      "metadata": {
        "id": "_9bFJLMDuXjb"
      },
      "source": [
        "## <center>Quantum Obfuscator</center>"
      ]
    },
    {
      "cell_type": "markdown",
      "metadata": {
        "tags": [
          "contents"
        ],
        "id": "4Is3BzfTuXjc"
      },
      "source": [
        "## Contents\n",
        "\n",
        "1. Introduction \n",
        "2. Overview of the Concept\n",
        "3. Example: Without Interception\n",
        "4. Example: With Interception\n",
        "5. Risk Analysis"
      ]
    },
    {
      "cell_type": "markdown",
      "metadata": {
        "id": "1RVguWtquXjc"
      },
      "source": [
        "# 1. Introduction\n",
        "\n",
        "Very soon all classic cryptography and obfuscation techniques will be rendered redundant due to quantum mechanics. Thus, comes the need of quantum computing. In our project we try to apply principles of quantum computing to Obfuscation Techniques. Consider the following scenario:\n",
        "\n",
        "When Alice and Bob want to communicate a code over an insecure channel (such as the internet), it is essential to obfuscate it. It is but obvious that both Alice and Bob having a secret key that no one else knows is useful and allows them to communicate using symmetric-key communication.\n",
        "\n",
        "If Alice and Bob want to use Eve’s classical communication channel to share their key, it is impossible to tell if Eve has made a copy of this key for herself- they must place complete trust in Eve that she is not intercepting. If, however, Eve provides a quantum communication channel, Alice and Bob no longer need to trust Eve at all- they will know if she tries to read Bob’s message before it gets to Alice.\n",
        "\n",
        "\n",
        "## 2. Overview of the Concept \n",
        "\n",
        "The protocol makes use of the fact that measuring a qubit can change its state. If Sender A sends B a qubit, and an eavesdropper tries to measure it before B does, there is a great chance that the intruder's measurement will change the state of the qubit and B will not receive the qubit state A sent. To implement the same, we use Python's Qiskit Library that provides functionalities for Quantum Computing"
      ]
    },
    {
      "cell_type": "code",
      "source": [
        "!pip install qiskit"
      ],
      "metadata": {
        "colab": {
          "base_uri": "https://localhost:8080/"
        },
        "id": "ESHwA6rauxuk",
        "outputId": "89a273e0-f9ce-450f-fbcb-bd9186f7fbf9"
      },
      "execution_count": null,
      "outputs": [
        {
          "output_type": "stream",
          "name": "stdout",
          "text": [
            "Looking in indexes: https://pypi.org/simple, https://us-python.pkg.dev/colab-wheels/public/simple/\n",
            "Collecting qiskit\n",
            "  Downloading qiskit-0.41.1.tar.gz (14 kB)\n",
            "  Preparing metadata (setup.py) ... \u001b[?25l\u001b[?25hdone\n",
            "Collecting qiskit-terra==0.23.2\n",
            "  Downloading qiskit_terra-0.23.2-cp38-cp38-manylinux_2_17_x86_64.manylinux2014_x86_64.whl (5.1 MB)\n",
            "\u001b[2K     \u001b[90m━━━━━━━━━━━━━━━━━━━━━━━━━━━━━━━━━━━━━━━━\u001b[0m \u001b[32m5.1/5.1 MB\u001b[0m \u001b[31m69.7 MB/s\u001b[0m eta \u001b[36m0:00:00\u001b[0m\n",
            "\u001b[?25hCollecting qiskit-aer==0.11.2\n",
            "  Downloading qiskit_aer-0.11.2-cp38-cp38-manylinux_2_17_x86_64.manylinux2014_x86_64.whl (12.8 MB)\n",
            "\u001b[2K     \u001b[90m━━━━━━━━━━━━━━━━━━━━━━━━━━━━━━━━━━━━━━━━\u001b[0m \u001b[32m12.8/12.8 MB\u001b[0m \u001b[31m94.1 MB/s\u001b[0m eta \u001b[36m0:00:00\u001b[0m\n",
            "\u001b[?25hCollecting qiskit-ibmq-provider==0.20.1\n",
            "  Downloading qiskit_ibmq_provider-0.20.1-py3-none-any.whl (241 kB)\n",
            "\u001b[2K     \u001b[90m━━━━━━━━━━━━━━━━━━━━━━━━━━━━━━━━━━━━━━\u001b[0m \u001b[32m241.3/241.3 KB\u001b[0m \u001b[31m23.9 MB/s\u001b[0m eta \u001b[36m0:00:00\u001b[0m\n",
            "\u001b[?25hRequirement already satisfied: numpy>=1.16.3 in /usr/local/lib/python3.8/dist-packages (from qiskit-aer==0.11.2->qiskit) (1.22.4)\n",
            "Requirement already satisfied: scipy>=1.0 in /usr/local/lib/python3.8/dist-packages (from qiskit-aer==0.11.2->qiskit) (1.7.3)\n",
            "Requirement already satisfied: python-dateutil~=2.8.0 in /usr/local/lib/python3.8/dist-packages (from qiskit-ibmq-provider==0.20.1->qiskit) (2.8.2)\n",
            "Collecting urllib3~=1.26.0\n",
            "  Downloading urllib3-1.26.14-py2.py3-none-any.whl (140 kB)\n",
            "\u001b[2K     \u001b[90m━━━━━━━━━━━━━━━━━━━━━━━━━━━━━━━━━━━━━━\u001b[0m \u001b[32m140.6/140.6 KB\u001b[0m \u001b[31m15.9 MB/s\u001b[0m eta \u001b[36m0:00:00\u001b[0m\n",
            "\u001b[?25hCollecting websocket-client~=1.5.1\n",
            "  Downloading websocket_client-1.5.1-py3-none-any.whl (55 kB)\n",
            "\u001b[2K     \u001b[90m━━━━━━━━━━━━━━━━━━━━━━━━━━━━━━━━━━━━━━━━\u001b[0m \u001b[32m55.9/55.9 KB\u001b[0m \u001b[31m6.8 MB/s\u001b[0m eta \u001b[36m0:00:00\u001b[0m\n",
            "\u001b[?25hCollecting websockets~=10.0\n",
            "  Downloading websockets-10.4-cp38-cp38-manylinux_2_5_x86_64.manylinux1_x86_64.manylinux_2_17_x86_64.manylinux2014_x86_64.whl (106 kB)\n",
            "\u001b[2K     \u001b[90m━━━━━━━━━━━━━━━━━━━━━━━━━━━━━━━━━━━━━━\u001b[0m \u001b[32m107.0/107.0 KB\u001b[0m \u001b[31m13.6 MB/s\u001b[0m eta \u001b[36m0:00:00\u001b[0m\n",
            "\u001b[?25hCollecting requests-ntlm~=1.1.0\n",
            "  Downloading requests_ntlm-1.1.0-py2.py3-none-any.whl (5.7 kB)\n",
            "Collecting requests~=2.28.0\n",
            "  Downloading requests-2.28.2-py3-none-any.whl (62 kB)\n",
            "\u001b[2K     \u001b[90m━━━━━━━━━━━━━━━━━━━━━━━━━━━━━━━━━━━━━━━━\u001b[0m \u001b[32m62.8/62.8 KB\u001b[0m \u001b[31m8.4 MB/s\u001b[0m eta \u001b[36m0:00:00\u001b[0m\n",
            "\u001b[?25hCollecting rustworkx>=0.12.0\n",
            "  Downloading rustworkx-0.12.1-cp38-cp38-manylinux_2_17_x86_64.manylinux2014_x86_64.whl (1.9 MB)\n",
            "\u001b[2K     \u001b[90m━━━━━━━━━━━━━━━━━━━━━━━━━━━━━━━━━━━━━━━━\u001b[0m \u001b[32m1.9/1.9 MB\u001b[0m \u001b[31m64.7 MB/s\u001b[0m eta \u001b[36m0:00:00\u001b[0m\n",
            "\u001b[?25hRequirement already satisfied: dill>=0.3 in /usr/local/lib/python3.8/dist-packages (from qiskit-terra==0.23.2->qiskit) (0.3.6)\n",
            "Collecting symengine>=0.9\n",
            "  Downloading symengine-0.9.2-cp38-cp38-manylinux2010_x86_64.whl (37.5 MB)\n",
            "\u001b[2K     \u001b[90m━━━━━━━━━━━━━━━━━━━━━━━━━━━━━━━━━━━━━━━━\u001b[0m \u001b[32m37.5/37.5 MB\u001b[0m \u001b[31m14.7 MB/s\u001b[0m eta \u001b[36m0:00:00\u001b[0m\n",
            "\u001b[?25hRequirement already satisfied: psutil>=5 in /usr/local/lib/python3.8/dist-packages (from qiskit-terra==0.23.2->qiskit) (5.4.8)\n",
            "Requirement already satisfied: sympy>=1.3 in /usr/local/lib/python3.8/dist-packages (from qiskit-terra==0.23.2->qiskit) (1.7.1)\n",
            "Collecting stevedore>=3.0.0\n",
            "  Downloading stevedore-5.0.0-py3-none-any.whl (49 kB)\n",
            "\u001b[2K     \u001b[90m━━━━━━━━━━━━━━━━━━━━━━━━━━━━━━━━━━━━━━━━\u001b[0m \u001b[32m49.6/49.6 KB\u001b[0m \u001b[31m6.3 MB/s\u001b[0m eta \u001b[36m0:00:00\u001b[0m\n",
            "\u001b[?25hCollecting ply>=3.10\n",
            "  Downloading ply-3.11-py2.py3-none-any.whl (49 kB)\n",
            "\u001b[2K     \u001b[90m━━━━━━━━━━━━━━━━━━━━━━━━━━━━━━━━━━━━━━━━\u001b[0m \u001b[32m49.6/49.6 KB\u001b[0m \u001b[31m7.4 MB/s\u001b[0m eta \u001b[36m0:00:00\u001b[0m\n",
            "\u001b[?25hRequirement already satisfied: six>=1.5 in /usr/local/lib/python3.8/dist-packages (from python-dateutil~=2.8.0->qiskit-ibmq-provider==0.20.1->qiskit) (1.15.0)\n",
            "Requirement already satisfied: idna<4,>=2.5 in /usr/local/lib/python3.8/dist-packages (from requests~=2.28.0->qiskit-ibmq-provider==0.20.1->qiskit) (2.10)\n",
            "Requirement already satisfied: certifi>=2017.4.17 in /usr/local/lib/python3.8/dist-packages (from requests~=2.28.0->qiskit-ibmq-provider==0.20.1->qiskit) (2022.12.7)\n",
            "Requirement already satisfied: charset-normalizer<4,>=2 in /usr/local/lib/python3.8/dist-packages (from requests~=2.28.0->qiskit-ibmq-provider==0.20.1->qiskit) (3.0.1)\n",
            "Collecting ntlm-auth>=1.0.2\n",
            "  Downloading ntlm_auth-1.5.0-py2.py3-none-any.whl (29 kB)\n",
            "Collecting cryptography>=1.3\n",
            "  Downloading cryptography-39.0.1-cp36-abi3-manylinux_2_28_x86_64.whl (4.2 MB)\n",
            "\u001b[2K     \u001b[90m━━━━━━━━━━━━━━━━━━━━━━━━━━━━━━━━━━━━━━━━\u001b[0m \u001b[32m4.2/4.2 MB\u001b[0m \u001b[31m97.2 MB/s\u001b[0m eta \u001b[36m0:00:00\u001b[0m\n",
            "\u001b[?25hCollecting pbr!=2.1.0,>=2.0.0\n",
            "  Downloading pbr-5.11.1-py2.py3-none-any.whl (112 kB)\n",
            "\u001b[2K     \u001b[90m━━━━━━━━━━━━━━━━━━━━━━━━━━━━━━━━━━━━━━\u001b[0m \u001b[32m112.7/112.7 KB\u001b[0m \u001b[31m16.7 MB/s\u001b[0m eta \u001b[36m0:00:00\u001b[0m\n",
            "\u001b[?25hRequirement already satisfied: mpmath>=0.19 in /usr/local/lib/python3.8/dist-packages (from sympy>=1.3->qiskit-terra==0.23.2->qiskit) (1.2.1)\n",
            "Requirement already satisfied: cffi>=1.12 in /usr/local/lib/python3.8/dist-packages (from cryptography>=1.3->requests-ntlm~=1.1.0->qiskit-ibmq-provider==0.20.1->qiskit) (1.15.1)\n",
            "Requirement already satisfied: pycparser in /usr/local/lib/python3.8/dist-packages (from cffi>=1.12->cryptography>=1.3->requests-ntlm~=1.1.0->qiskit-ibmq-provider==0.20.1->qiskit) (2.21)\n",
            "Building wheels for collected packages: qiskit\n",
            "  Building wheel for qiskit (setup.py) ... \u001b[?25l\u001b[?25hdone\n",
            "  Created wheel for qiskit: filename=qiskit-0.41.1-py3-none-any.whl size=12918 sha256=f0e819db9a1a58db235da0081092261432d6fc00cbbb0bb781279e06d44e42f5\n",
            "  Stored in directory: /root/.cache/pip/wheels/03/93/d3/9c1ca2a27a41ea528d1cfd431bf5354745239d7a794d2070a6\n",
            "Successfully built qiskit\n",
            "Installing collected packages: ply, websockets, websocket-client, urllib3, symengine, rustworkx, pbr, ntlm-auth, stevedore, requests, cryptography, requests-ntlm, qiskit-terra, qiskit-ibmq-provider, qiskit-aer, qiskit\n",
            "  Attempting uninstall: urllib3\n",
            "    Found existing installation: urllib3 1.24.3\n",
            "    Uninstalling urllib3-1.24.3:\n",
            "      Successfully uninstalled urllib3-1.24.3\n",
            "  Attempting uninstall: requests\n",
            "    Found existing installation: requests 2.25.1\n",
            "    Uninstalling requests-2.25.1:\n",
            "      Successfully uninstalled requests-2.25.1\n",
            "Successfully installed cryptography-39.0.1 ntlm-auth-1.5.0 pbr-5.11.1 ply-3.11 qiskit-0.41.1 qiskit-aer-0.11.2 qiskit-ibmq-provider-0.20.1 qiskit-terra-0.23.2 requests-2.28.2 requests-ntlm-1.1.0 rustworkx-0.12.1 stevedore-5.0.0 symengine-0.9.2 urllib3-1.26.14 websocket-client-1.5.1 websockets-10.4\n"
          ]
        }
      ]
    },
    {
      "cell_type": "code",
      "execution_count": null,
      "metadata": {
        "scrolled": true,
        "tags": [
          "thebelab-init"
        ],
        "id": "GI6AqzBUuXjd"
      },
      "outputs": [],
      "source": [
        "from qiskit import QuantumCircuit, Aer, transpile, assemble\n",
        "from qiskit.visualization import plot_histogram, plot_bloch_multivector\n",
        "from numpy.random import randint\n",
        "import numpy as np"
      ]
    },
    {
      "cell_type": "markdown",
      "metadata": {
        "id": "m7J4UogcuXjf"
      },
      "source": [
        "If Alice prepares a qubit in the state $|+\\rangle$ (`0` in the $X$-basis), and Bob measures it in the $X$-basis, Bob is sure to measure `0`:"
      ]
    },
    {
      "cell_type": "code",
      "execution_count": null,
      "metadata": {
        "colab": {
          "base_uri": "https://localhost:8080/",
          "height": 400
        },
        "id": "ARZNT2NauXjg",
        "outputId": "295830b3-b89c-4fc3-8f48-e20223c430d6"
      },
      "outputs": [
        {
          "output_type": "display_data",
          "data": {
            "text/plain": [
              "     ┌───┐ ░ ┌───┐┌─┐\n",
              "  q: ┤ H ├─░─┤ H ├┤M├\n",
              "     └───┘ ░ └───┘└╥┘\n",
              "c: 1/══════════════╩═\n",
              "                   0 "
            ],
            "text/html": [
              "<pre style=\"word-wrap: normal;white-space: pre;background: #fff0;line-height: 1.1;font-family: &quot;Courier New&quot;,Courier,monospace\">     ┌───┐ ░ ┌───┐┌─┐\n",
              "  q: ┤ H ├─░─┤ H ├┤M├\n",
              "     └───┘ ░ └───┘└╥┘\n",
              "c: 1/══════════════╩═\n",
              "                   0 </pre>"
            ]
          },
          "metadata": {}
        },
        {
          "output_type": "execute_result",
          "data": {
            "text/plain": [
              "<Figure size 504x360 with 1 Axes>"
            ],
            "image/png": "[encoded data removed]"
          },
          "metadata": {},
          "execution_count": 6
        }
      ],
      "source": [
        "qc = QuantumCircuit(1,1) #0\n",
        "# A prepares qubit in state |+>\n",
        "qc.h(0)\n",
        "qc.barrier()\n",
        "# A now sends the qubit to B who measures it in the X-basis\n",
        "qc.h(0)\n",
        "qc.measure(0,0)\n",
        "\n",
        "# Draw and simulate circuit\n",
        "display(qc.draw())\n",
        "aer_sim = Aer.get_backend('aer_simulator')\n",
        "job = aer_sim.run(assemble(qc))\n",
        "#gives count of qubit states\n",
        "plot_histogram(job.result().get_counts())"
      ]
    },
    {
      "cell_type": "markdown",
      "metadata": {
        "id": "cPiW4HBPuXjh"
      },
      "source": [
        "But if the intruder tries to measure this qubit in the $Z$-basis before it reaches B, they will change the qubit's state from $|+\\rangle$ to either $|0\\rangle$ or $|1\\rangle$, and Bob is no longer certain to measure `0`:"
      ]
    },
    {
      "cell_type": "code",
      "execution_count": null,
      "metadata": {
        "colab": {
          "base_uri": "https://localhost:8080/",
          "height": 400
        },
        "id": "-7Sz1v-DuXji",
        "outputId": "6cc4fe70-77b7-4027-fe6d-1db3bf9f5cae"
      },
      "outputs": [
        {
          "output_type": "display_data",
          "data": {
            "text/plain": [
              "     ┌───┐┌─┐ ░ ┌───┐┌─┐\n",
              "  q: ┤ H ├┤M├─░─┤ H ├┤M├\n",
              "     └───┘└╥┘ ░ └───┘└╥┘\n",
              "c: 1/══════╩══════════╩═\n",
              "           0          0 "
            ],
            "text/html": [
              "<pre style=\"word-wrap: normal;white-space: pre;background: #fff0;line-height: 1.1;font-family: &quot;Courier New&quot;,Courier,monospace\">     ┌───┐┌─┐ ░ ┌───┐┌─┐\n",
              "  q: ┤ H ├┤M├─░─┤ H ├┤M├\n",
              "     └───┘└╥┘ ░ └───┘└╥┘\n",
              "c: 1/══════╩══════════╩═\n",
              "           0          0 </pre>"
            ]
          },
          "metadata": {}
        },
        {
          "output_type": "execute_result",
          "data": {
            "text/plain": [
              "<Figure size 504x360 with 1 Axes>"
            ],
            "image/png": "[encoded data removed]"
          },
          "metadata": {},
          "execution_count": 4
        }
      ],
      "source": [
        "qc = QuantumCircuit(1,1)\n",
        "# A prepares qubit in state |+>\n",
        "qc.h(0)\n",
        "# A now sends the qubit to B\n",
        "# but intruder intercepts and tries to read it\n",
        "qc.measure(0, 0)\n",
        "qc.barrier()\n",
        "# E then passes this on to B who measures it in the X-basis\n",
        "qc.h(0)\n",
        "qc.measure(0,0)\n",
        "\n",
        "# Draw and simulate circuit\n",
        "display(qc.draw())\n",
        "aer_sim = Aer.get_backend('aer_simulator')\n",
        "job = aer_sim.run(assemble(qc))\n",
        "plot_histogram(job.result().get_counts())"
      ]
    },
    {
      "cell_type": "markdown",
      "metadata": {
        "id": "LBqcUXrNuXjj"
      },
      "source": [
        "We can see here that B now has a 50% chance of measuring `1`, and if he does, he and A will know there is something wrong with their channel.\n",
        "\n",
        "The cryptography protocol involves repeating this process enough times that an eavesdropper has a negligible chance of getting away with this interception. \n",
        "Basic algorithm for the process is:\n",
        "\n",
        "**- Step 1**\n",
        "\n",
        "Sender chooses a string of random bits, e.g.:\n",
        "\n",
        "`1000101011010100`\n",
        "\n",
        "And a random choice of basis for each bit:\n",
        "\n",
        "`ZZXZXXXZXZXXXXXX`\n",
        "\n",
        "This information is kept private with the sender. \n",
        "\n",
        "**- Step 2**\n",
        "\n",
        "A then encodes each bit onto a string of qubits using the basis chosen; this means each qubit is in one of the states $|0\\rangle$, $|1\\rangle$, $|+\\rangle$ or $|-\\rangle$, chosen at random. In this case, the string of qubits would look like this:\n",
        "\n",
        "$$ |1\\rangle|0\\rangle|+\\rangle|0\\rangle|-\\rangle|+\\rangle|-\\rangle|0\\rangle|-\\rangle|1\\rangle|+\\rangle|-\\rangle|+\\rangle|-\\rangle|+\\rangle|+\\rangle\n",
        "$$\n",
        "\n",
        "This is the message she sent to receiver.\n",
        "\n",
        "**- Step 3**\n",
        "\n",
        "The receiver then measures each qubit at random, for example, he might use the bases:\n",
        "\n",
        "`XZZZXZXZXZXZZZXZ`\n",
        "\n",
        "And the measurement results are kept private.\n",
        "\n",
        "**- Step 4**\n",
        "\n",
        "The communicators then publicly share which basis they used for each qubit. If B measured a qubit in the same basis A prepared it in, they use this to form part of their shared secret key, otherwise they discard the information for that bit.\n",
        "\n",
        "**- Step 5**\n",
        "\n",
        "Finally, B and A share a random sample of their keys, and if the samples match, they can be sure (to a small margin of error) that their transmission is successful.\n"
      ]
    },
    {
      "cell_type": "markdown",
      "metadata": {
        "id": "EcAWSZ6duXjk"
      },
      "source": [
        "## 3.Without Interception"
      ]
    },
    {
      "cell_type": "markdown",
      "metadata": {
        "id": "_pjq4ciuuXjk"
      },
      "source": [
        "`randint` function from numpy is used to generate pseudo-random keys. "
      ]
    },
    {
      "cell_type": "code",
      "execution_count": null,
      "metadata": {
        "id": "LZbh4DTLuXjk"
      },
      "outputs": [],
      "source": [
        "np.random.seed(seed=0)"
      ]
    },
    {
      "cell_type": "code",
      "execution_count": null,
      "metadata": {
        "id": "Q5mJPkq4uXjl"
      },
      "outputs": [],
      "source": [
        "n = 100 #length of sender's message"
      ]
    },
    {
      "cell_type": "markdown",
      "metadata": {
        "id": "Lfpo8TxAuXjl"
      },
      "source": [
        "### Step 3.1:\n",
        "\n",
        "Sender generates random set of bits:"
      ]
    },
    {
      "cell_type": "code",
      "execution_count": null,
      "metadata": {
        "colab": {
          "base_uri": "https://localhost:8080/"
        },
        "id": "w5X3nVdZuXjl",
        "outputId": "2a13ecfb-999b-4820-a881-f444e3cc7823"
      },
      "outputs": [
        {
          "output_type": "stream",
          "name": "stdout",
          "text": [
            "[0 1 1 0 1 1 1 1 1 1 1 0 0 1 0 0 0 0 0 1 0 1 1 0 0 1 1 1 1 0 1 0 1 0 1 1 0\n",
            " 1 1 0 0 1 0 1 1 1 1 1 0 1 0 1 1 1 1 0 1 0 0 1 1 0 1 0 1 0 0 0 0 0 1 1 0 0\n",
            " 0 1 1 0 1 0 0 1 0 1 1 1 1 1 1 0 1 1 0 0 1 0 0 1 1 0]\n"
          ]
        }
      ],
      "source": [
        "np.random.seed(seed=0)\n",
        "n = 100\n",
        "## Step 1\n",
        "# Alice generates bits\n",
        "alice_bits = randint(2, size=n)\n",
        "print(alice_bits)"
      ]
    },
    {
      "cell_type": "markdown",
      "metadata": {
        "id": "C1EFo-RquXjm"
      },
      "source": [
        "At the moment, the set of bits '`alice_bits`' is only known to Alice.\n",
        "\n",
        "### 3.2 Step 2:\n",
        "\n",
        "Alice chooses to encode each bit on qubit in the $X$ or $Z$-basis at random, and stores the choice for each qubit in `alice_bases`. <br>\n",
        "`0` : $Z$-basis<br>\n",
        "`1` : $X$-basis"
      ]
    },
    {
      "cell_type": "code",
      "execution_count": null,
      "metadata": {
        "colab": {
          "base_uri": "https://localhost:8080/"
        },
        "id": "yit5-siXuXjm",
        "outputId": "5b9d99fc-ecd2-4396-f4f0-ad13dc85dfa8"
      },
      "outputs": [
        {
          "output_type": "stream",
          "name": "stdout",
          "text": [
            "[1 0 0 1 0 0 0 1 1 0 1 0 0 0 0 0 1 0 1 0 1 1 1 1 1 0 1 1 1 1 0 1 1 0 0 1 0\n",
            " 0 0 0 1 1 0 0 1 0 1 1 1 1 0 0 0 1 0 1 1 1 0 1 0 0 1 0 1 1 0 0 1 0 1 0 1 0\n",
            " 1 0 1 0 0 0 1 0 1 0 1 0 0 0 0 0 1 0 0 1 0 0 0 1 0 0]\n"
          ]
        }
      ],
      "source": [
        "alice_bases = randint(2, size=n)\n",
        "print(alice_bases)"
      ]
    },
    {
      "cell_type": "markdown",
      "metadata": {
        "id": "mIp8wR_fuXjm"
      },
      "source": [
        "Alice also keeps this knowledge private\n",
        "\n",
        "The function `encode_message` below, creates a list of `QuantumCircuits`, each representing a single qubit in Alice's message:"
      ]
    },
    {
      "cell_type": "code",
      "execution_count": null,
      "metadata": {
        "tags": [
          "thebelab-init"
        ],
        "id": "egZ-JxmduXjn"
      },
      "outputs": [],
      "source": [
        "def encode_message(bits, bases):\n",
        "    message = []\n",
        "    for i in range(n):\n",
        "        qc = QuantumCircuit(1,1)\n",
        "        if bases[i] == 0: # Prepare qubit in Z-basis\n",
        "            if bits[i] == 0:\n",
        "                pass \n",
        "            else:\n",
        "                qc.x(0)\n",
        "        else: # Prepare qubit in X-basis\n",
        "            if bits[i] == 0:\n",
        "                qc.h(0)\n",
        "            else:\n",
        "                qc.x(0)\n",
        "                qc.h(0)\n",
        "        qc.barrier()\n",
        "        message.append(qc)\n",
        "    return message"
      ]
    },
    {
      "cell_type": "code",
      "execution_count": null,
      "metadata": {
        "id": "Xn3m7_7_uXjn"
      },
      "outputs": [],
      "source": [
        "message = encode_message(alice_bits, alice_bases)"
      ]
    },
    {
      "cell_type": "markdown",
      "metadata": {
        "id": "DmFsAMVNuXjn"
      },
      "source": [
        "We can see that the first bit in `alices_bits` is `0`, and the basis she encodes this in is the $X$-basis (represented by `1`):"
      ]
    },
    {
      "cell_type": "code",
      "execution_count": null,
      "metadata": {
        "colab": {
          "base_uri": "https://localhost:8080/"
        },
        "id": "8dWYsMVMuXjn",
        "outputId": "457fdd8a-a840-41bb-c3d0-228a502f724a"
      },
      "outputs": [
        {
          "output_type": "stream",
          "name": "stdout",
          "text": [
            "bit = 0\n",
            "basis = 1\n"
          ]
        }
      ],
      "source": [
        "print('bit = %i' % alice_bits[0])\n",
        "print('basis = %i' % alice_bases[0])"
      ]
    },
    {
      "cell_type": "markdown",
      "metadata": {
        "id": "xvo3xseduXjo"
      },
      "source": [
        "And if we view the first circuit in `message` (representing the first qubit in Alice's message), we can verify that Alice has prepared a qubit in the state $|+\\rangle$:"
      ]
    },
    {
      "cell_type": "code",
      "execution_count": null,
      "metadata": {
        "colab": {
          "base_uri": "https://localhost:8080/",
          "height": 94
        },
        "id": "Ntx_EzrtuXjo",
        "outputId": "924e4bb3-cf5a-4336-de52-96919601f739"
      },
      "outputs": [
        {
          "output_type": "execute_result",
          "data": {
            "text/plain": [
              "     ┌───┐ ░ \n",
              "  q: ┤ H ├─░─\n",
              "     └───┘ ░ \n",
              "c: 1/════════\n",
              "             "
            ],
            "text/html": [
              "<pre style=\"word-wrap: normal;white-space: pre;background: #fff0;line-height: 1.1;font-family: &quot;Courier New&quot;,Courier,monospace\">     ┌───┐ ░ \n",
              "  q: ┤ H ├─░─\n",
              "     └───┘ ░ \n",
              "c: 1/════════\n",
              "             </pre>"
            ]
          },
          "metadata": {},
          "execution_count": 16
        }
      ],
      "source": [
        "message[0].draw()"
      ]
    },
    {
      "cell_type": "markdown",
      "metadata": {
        "id": "VnTlHfX2uXjo"
      },
      "source": [
        "Similarly, the second bit in `alices_bits` is `1`, and the basis she encodes this in is the $Z$-basis (represented by `0`):"
      ]
    },
    {
      "cell_type": "code",
      "execution_count": null,
      "metadata": {
        "colab": {
          "base_uri": "https://localhost:8080/",
          "height": 129
        },
        "id": "Y1zvoaUvuXjp",
        "outputId": "0f32aae6-30c5-491e-92ec-dc0403ab17e5"
      },
      "outputs": [
        {
          "output_type": "stream",
          "name": "stdout",
          "text": [
            "bit = 1\n",
            "basis = 0\n"
          ]
        },
        {
          "output_type": "execute_result",
          "data": {
            "text/plain": [
              "     ┌───┐ ░ \n",
              "  q: ┤ X ├─░─\n",
              "     └───┘ ░ \n",
              "c: 1/════════\n",
              "             "
            ],
            "text/html": [
              "<pre style=\"word-wrap: normal;white-space: pre;background: #fff0;line-height: 1.1;font-family: &quot;Courier New&quot;,Courier,monospace\">     ┌───┐ ░ \n",
              "  q: ┤ X ├─░─\n",
              "     └───┘ ░ \n",
              "c: 1/════════\n",
              "             </pre>"
            ]
          },
          "metadata": {},
          "execution_count": 17
        }
      ],
      "source": [
        "print('bit = %i' % alice_bits[1])\n",
        "print('basis = %i' % alice_bases[1])\n",
        "message[1].draw()"
      ]
    },
    {
      "cell_type": "markdown",
      "metadata": {
        "id": "f2uFFJ4NuXjp"
      },
      "source": [
        "This message of qubits is then sent to Bob over Eve's quantum channel:\n",
        "\n",
        "### 3.3 Step 3:\n",
        "\n",
        "Bob then measures each qubit in the $X$ or $Z$-basis at random and stores this information:"
      ]
    },
    {
      "cell_type": "code",
      "execution_count": null,
      "metadata": {
        "colab": {
          "base_uri": "https://localhost:8080/"
        },
        "id": "MjJvJxkSuXjp",
        "outputId": "b6b0c1d8-924d-410b-9ba5-4f385ca0e969"
      },
      "outputs": [
        {
          "output_type": "stream",
          "name": "stdout",
          "text": [
            "[1 0 1 0 0 1 1 0 0 0 1 1 0 0 0 0 0 1 0 1 0 0 0 1 1 1 0 0 1 1 1 1 0 0 0 1 1\n",
            " 0 1 0 0 1 0 1 1 1 1 0 0 0 1 1 1 0 1 1 1 1 0 0 1 1 0 0 0 1 1 0 1 1 1 1 1 0\n",
            " 0 0 1 0 1 0 1 1 0 0 0 1 0 0 1 1 1 1 0 1 0 0 0 0 1 1]\n"
          ]
        }
      ],
      "source": [
        "bob_bases = randint(2, size=n)\n",
        "print(bob_bases)"
      ]
    },
    {
      "cell_type": "markdown",
      "metadata": {
        "id": "xoje-zhsuXjp"
      },
      "source": [
        "`bob_bases` stores Bob's choice for which basis he measures each qubit in.\n",
        "\n",
        "Below, the function `decode_message` applies the corresponding decoding and simulates the result of measuring each qubit. We store the measurement results in `bob_results`."
      ]
    },
    {
      "cell_type": "code",
      "execution_count": null,
      "metadata": {
        "tags": [
          "thebelab-init"
        ],
        "id": "Zxd5fEb-uXjq"
      },
      "outputs": [],
      "source": [
        "def decode_message(message, bases):\n",
        "    backend = Aer.get_backend('aer_simulator')\n",
        "    measurements = []\n",
        "    for q in range(n):\n",
        "        if bases[q] == 0: # measuring in Z-basis\n",
        "            message[q].measure(0,0)\n",
        "        if bases[q] == 1: # measuring in X-basis\n",
        "            message[q].h(0)\n",
        "            message[q].measure(0,0)\n",
        "        aer_sim = Aer.get_backend('aer_simulator')\n",
        "        qobj = assemble(message[q], shots=1, memory=True)\n",
        "        result = aer_sim.run(qobj).result()\n",
        "        measured_bit = int(result.get_memory()[0])\n",
        "        measurements.append(measured_bit)\n",
        "    return measurements"
      ]
    },
    {
      "cell_type": "code",
      "execution_count": null,
      "metadata": {
        "id": "WqguDVV0uXjq"
      },
      "outputs": [],
      "source": [
        "bob_results = decode_message(message, bob_bases)"
      ]
    },
    {
      "cell_type": "markdown",
      "metadata": {
        "id": "lVX0J4BAuXjq"
      },
      "source": [
        "We can see that the circuit in `message[0]` (representing the 0th qubit) has had an $X$-measurement added to it by Bob:"
      ]
    },
    {
      "cell_type": "code",
      "execution_count": null,
      "metadata": {
        "colab": {
          "base_uri": "https://localhost:8080/",
          "height": 94
        },
        "id": "18m5j2D3uXjq",
        "outputId": "28e8a9d6-88f1-4ba7-a03a-f7aa4425c2c3"
      },
      "outputs": [
        {
          "output_type": "execute_result",
          "data": {
            "text/plain": [
              "     ┌───┐ ░ ┌───┐┌─┐\n",
              "  q: ┤ H ├─░─┤ H ├┤M├\n",
              "     └───┘ ░ └───┘└╥┘\n",
              "c: 1/══════════════╩═\n",
              "                   0 "
            ],
            "text/html": [
              "<pre style=\"word-wrap: normal;white-space: pre;background: #fff0;line-height: 1.1;font-family: &quot;Courier New&quot;,Courier,monospace\">     ┌───┐ ░ ┌───┐┌─┐\n",
              "  q: ┤ H ├─░─┤ H ├┤M├\n",
              "     └───┘ ░ └───┘└╥┘\n",
              "c: 1/══════════════╩═\n",
              "                   0 </pre>"
            ]
          },
          "metadata": {},
          "execution_count": 21
        }
      ],
      "source": [
        "message[0].draw()"
      ]
    },
    {
      "cell_type": "markdown",
      "metadata": {
        "id": "tGAsRCHEuXjr"
      },
      "source": [
        "Since Bob has by chance chosen to measure in the same basis Alice encoded the qubit in, Bob is guaranteed to get the result `0`. For the 6th qubit (shown below), Bob's random choice of measurement is not the same as Alice's, and Bob's result has only a 50% chance of matching Alices'. "
      ]
    },
    {
      "cell_type": "code",
      "execution_count": null,
      "metadata": {
        "colab": {
          "base_uri": "https://localhost:8080/",
          "height": 94
        },
        "id": "y9ziONGduXjr",
        "outputId": "903f70d0-3773-44e9-c407-f4e94a03dd3a"
      },
      "outputs": [
        {
          "output_type": "execute_result",
          "data": {
            "text/plain": [
              "     ┌───┐ ░ ┌───┐┌─┐\n",
              "  q: ┤ X ├─░─┤ H ├┤M├\n",
              "     └───┘ ░ └───┘└╥┘\n",
              "c: 1/══════════════╩═\n",
              "                   0 "
            ],
            "text/html": [
              "<pre style=\"word-wrap: normal;white-space: pre;background: #fff0;line-height: 1.1;font-family: &quot;Courier New&quot;,Courier,monospace\">     ┌───┐ ░ ┌───┐┌─┐\n",
              "  q: ┤ X ├─░─┤ H ├┤M├\n",
              "     └───┘ ░ └───┘└╥┘\n",
              "c: 1/══════════════╩═\n",
              "                   0 </pre>"
            ]
          },
          "metadata": {},
          "execution_count": 22
        }
      ],
      "source": [
        "message[6].draw()"
      ]
    },
    {
      "cell_type": "code",
      "execution_count": null,
      "metadata": {
        "colab": {
          "base_uri": "https://localhost:8080/"
        },
        "id": "9499h-rFuXjr",
        "outputId": "786a099d-d984-4c44-cf7e-68e437df154f"
      },
      "outputs": [
        {
          "output_type": "stream",
          "name": "stdout",
          "text": [
            "[0, 1, 0, 0, 1, 0, 0, 0, 1, 1, 1, 1, 0, 1, 0, 0, 1, 0, 1, 0, 1, 0, 0, 0, 0, 1, 1, 1, 1, 0, 1, 0, 1, 0, 1, 1, 0, 1, 0, 0, 1, 1, 0, 1, 1, 0, 1, 1, 1, 0, 0, 1, 0, 0, 0, 0, 1, 0, 0, 0, 0, 1, 0, 0, 0, 0, 1, 0, 0, 0, 1, 0, 0, 0, 0, 1, 1, 0, 1, 0, 0, 0, 1, 1, 0, 1, 1, 1, 1, 1, 1, 1, 0, 0, 1, 0, 0, 0, 1, 0]\n"
          ]
        }
      ],
      "source": [
        "print(bob_results)"
      ]
    },
    {
      "cell_type": "markdown",
      "metadata": {
        "id": "pryqMT9_uXjs"
      },
      "source": [
        "Bob keeps his results private.\n",
        "\n",
        "### 3.4 Step 4:\n",
        "\n",
        "After this, Alice and Bob reveal through Eve's channel which qubits were encoded and decoded in which basis respectively\n",
        "\n",
        "If Bob happened to measure a bit in the same basis Alice prepared it in, this means the entry in `bob_results` will match the corresponding entry in `alice_bits`, and they can use that bit as part of their key. If they measured in different bases, Bob's result is random, and they both throw that entry away. Here is a function `remove_garbage` that does this for us:"
      ]
    },
    {
      "cell_type": "code",
      "execution_count": null,
      "metadata": {
        "scrolled": true,
        "tags": [
          "thebelab-init"
        ],
        "id": "o6ho8Py8uXjs"
      },
      "outputs": [],
      "source": [
        "def remove_garbage(a_bases, b_bases, bits):\n",
        "    good_bits = []\n",
        "    for q in range(n):\n",
        "        if a_bases[q] == b_bases[q]:\n",
        "            # If both used the same basis, add\n",
        "            # this to the list of 'good' bits\n",
        "            good_bits.append(bits[q])\n",
        "    return good_bits"
      ]
    },
    {
      "cell_type": "markdown",
      "metadata": {
        "id": "__aKIIMUuXjs"
      },
      "source": [
        "Alice and Bob both discard the useless bits, and use the remaining bits to form their secret keys:"
      ]
    },
    {
      "cell_type": "code",
      "execution_count": null,
      "metadata": {
        "colab": {
          "base_uri": "https://localhost:8080/"
        },
        "id": "Zaumu8SXuXjs",
        "outputId": "e98f49df-12c8-4a58-937b-e630fc9d1b81"
      },
      "outputs": [
        {
          "output_type": "stream",
          "name": "stdout",
          "text": [
            "[0, 1, 1, 1, 1, 0, 1, 0, 0, 0, 0, 1, 0, 0, 0, 1, 1, 1, 0, 1, 0, 1, 1, 0, 1, 0, 0, 0, 0, 0, 0, 1, 0, 0, 1, 1, 0, 0, 0, 1, 1, 1, 1, 0, 0, 1, 0, 0]\n"
          ]
        }
      ],
      "source": [
        "np.random.seed(seed=0)\n",
        "n = 100\n",
        "\n",
        "## Step 1\n",
        "# Alice generates bits\n",
        "alice_bits = randint(2, size=n)\n",
        "\n",
        "## Step 2\n",
        "# Create an array to tell us which qubits\n",
        "# are encoded in which bases\n",
        "alice_bases = randint(2, size=n)\n",
        "message = encode_message(alice_bits, alice_bases)\n",
        "\n",
        "## Step 3\n",
        "# Decide which basis to measure in:\n",
        "bob_bases = randint(2, size=n)\n",
        "bob_results = decode_message(message, bob_bases)\n",
        "\n",
        "## Step 4\n",
        "alice_key = remove_garbage(alice_bases, bob_bases, alice_bits)\n",
        "print(alice_key)"
      ]
    },
    {
      "cell_type": "code",
      "execution_count": null,
      "metadata": {
        "colab": {
          "base_uri": "https://localhost:8080/"
        },
        "id": "88UUbYtLuXjt",
        "outputId": "92fff603-9534-45a6-af7e-9b91e115e05e"
      },
      "outputs": [
        {
          "output_type": "stream",
          "name": "stdout",
          "text": [
            "[0, 1, 1, 1, 1, 0, 1, 0, 0, 0, 0, 1, 0, 0, 0, 1, 1, 1, 0, 1, 0, 1, 1, 0, 1, 0, 0, 0, 0, 0, 0, 1, 0, 0, 1, 1, 0, 0, 0, 1, 1, 1, 1, 0, 0, 1, 0, 0]\n"
          ]
        }
      ],
      "source": [
        "bob_key = remove_garbage(alice_bases, bob_bases, bob_results)\n",
        "print(bob_key)"
      ]
    },
    {
      "cell_type": "markdown",
      "metadata": {
        "id": "NcFpu4xFuXjt"
      },
      "source": [
        "### 3.5 Step 5:\n",
        "\n",
        "Finally, Bob and Alice compare a random selection of the bits in their keys to make sure the protocol has worked correctly:"
      ]
    },
    {
      "cell_type": "code",
      "execution_count": null,
      "metadata": {
        "tags": [
          "thebelab-init"
        ],
        "id": "EMBXelm_uXjt"
      },
      "outputs": [],
      "source": [
        "def sample_bits(bits, selection):\n",
        "    sample = []\n",
        "    for i in selection:\n",
        "        i = np.mod(i, len(bits))\n",
        "        sample.append(bits.pop(i))\n",
        "    return sample"
      ]
    },
    {
      "cell_type": "markdown",
      "metadata": {
        "id": "Jx7oU-NvuXjt"
      },
      "source": [
        "Alice and Bob both broadcast these publicly, and remove them from their keys as they are no longer secret:"
      ]
    },
    {
      "cell_type": "code",
      "execution_count": null,
      "metadata": {
        "colab": {
          "base_uri": "https://localhost:8080/"
        },
        "id": "3VZbwqBQuXjt",
        "outputId": "cab972cf-d613-4ecc-876a-4c1f8e18c6da"
      },
      "outputs": [
        {
          "output_type": "stream",
          "name": "stdout",
          "text": [
            "  bob_sample = [0, 1, 0, 1, 1, 0, 0, 0, 0, 0, 0, 1, 0, 0, 0]\n",
            "alice_sample = [0, 1, 0, 1, 1, 0, 0, 0, 0, 0, 0, 1, 0, 0, 0]\n"
          ]
        }
      ],
      "source": [
        "sample_size = 15\n",
        "bit_selection = randint(n, size=sample_size)\n",
        "\n",
        "bob_sample = sample_bits(bob_key, bit_selection)\n",
        "print(\"  bob_sample = \" + str(bob_sample))\n",
        "alice_sample = sample_bits(alice_key, bit_selection)\n",
        "print(\"alice_sample = \"+ str(alice_sample))"
      ]
    },
    {
      "cell_type": "code",
      "execution_count": null,
      "metadata": {
        "colab": {
          "base_uri": "https://localhost:8080/"
        },
        "id": "qoHHnhwnuXjt",
        "outputId": "30e15eca-982c-4cdf-dd91-43a71dd7cdb6"
      },
      "outputs": [
        {
          "output_type": "execute_result",
          "data": {
            "text/plain": [
              "True"
            ]
          },
          "metadata": {},
          "execution_count": 29
        }
      ],
      "source": [
        "bob_sample == alice_sample"
      ]
    },
    {
      "cell_type": "markdown",
      "metadata": {
        "id": "kYDhtso4uXju"
      },
      "source": [
        "If their samples match, it means  `alice_key == bob_key`. They now share a secret key they can use to encrypt their messages."
      ]
    },
    {
      "cell_type": "code",
      "execution_count": null,
      "metadata": {
        "colab": {
          "base_uri": "https://localhost:8080/"
        },
        "id": "-vZfVb1nuXju",
        "outputId": "f9c37179-1469-4991-8257-9b29cf5ce82b"
      },
      "outputs": [
        {
          "output_type": "stream",
          "name": "stdout",
          "text": [
            "[1, 1, 0, 1, 0, 0, 1, 0, 1, 1, 1, 0, 1, 1, 1, 0, 1, 0, 0, 1, 0, 0, 1, 1, 0, 0, 0, 1, 1, 0, 1, 0, 0]\n",
            "[1, 1, 0, 1, 0, 0, 1, 0, 1, 1, 1, 0, 1, 1, 1, 0, 1, 0, 0, 1, 0, 0, 1, 1, 0, 0, 0, 1, 1, 0, 1, 0, 0]\n",
            "key length = 33\n"
          ]
        }
      ],
      "source": [
        "print(bob_key)\n",
        "print(alice_key)\n",
        "print(\"key length = %i\" % len(alice_key))"
      ]
    },
    {
      "cell_type": "markdown",
      "metadata": {
        "id": "vaAAMxeWuXju"
      },
      "source": [
        "## 4. *With* Interception\n",
        "\n",
        "Let’s now see how Alice and Bob can tell if Eve has been trying to listen in on their quantum message. The procedure is same as above, but before Bob receives his qubits, Eve will try and extract some information from them."
      ]
    },
    {
      "cell_type": "code",
      "execution_count": null,
      "metadata": {
        "id": "s1kYKGmeuXju"
      },
      "outputs": [],
      "source": [
        "np.random.seed(seed=3)"
      ]
    },
    {
      "cell_type": "markdown",
      "metadata": {
        "id": "f05IqRNauXjv"
      },
      "source": [
        "### 4.1 Step 1:\n",
        "\n",
        "Alice generates her set of random bits:"
      ]
    },
    {
      "cell_type": "code",
      "execution_count": null,
      "metadata": {
        "colab": {
          "base_uri": "https://localhost:8080/"
        },
        "id": "s5HW8gRfuXjv",
        "outputId": "3264f87a-97e0-4b68-ad0e-f53338774a8f"
      },
      "outputs": [
        {
          "output_type": "stream",
          "name": "stdout",
          "text": [
            "[0 0 1 1 0 0 0 1 1 1 0 1 1 1 0 1 1 0 0 0 0 1 1 0 0 0 1 0 0 0 0 1 0 1 1 0 1\n",
            " 0 0 1 1 0 0 1 0 1 0 1 1 1 1 0 1 0 0 1 1 1 0 0 0 1 0 0 0 1 0 0 1 1 0 0 1 1\n",
            " 1 0 1 1 1 1 1 1 0 1 0 0 1 1 0 1 0 0 0 0 0 1 1 0 1 1]\n"
          ]
        }
      ],
      "source": [
        "alice_bits = randint(2, size=n)\n",
        "print(alice_bits)"
      ]
    },
    {
      "cell_type": "markdown",
      "metadata": {
        "id": "qd7L7qWhuXjv"
      },
      "source": [
        "### 4.2 Step 2:\n",
        "\n",
        "Alice encodes these in the $Z$ and $X$-bases at random, and sends these to Bob through Eve's quantum channel:"
      ]
    },
    {
      "cell_type": "code",
      "execution_count": null,
      "metadata": {
        "colab": {
          "base_uri": "https://localhost:8080/"
        },
        "id": "CGD131qwuXjv",
        "outputId": "8af77601-94ff-49bf-9c7b-1146b7ed4154"
      },
      "outputs": [
        {
          "output_type": "stream",
          "name": "stdout",
          "text": [
            "[1 0 0 1 1 0 1 0 0 0 0 0 0 0 0 0 1 0 0 0 0 1 1 1 1 0 0 1 1 0 0 1 1 1 1 0 0\n",
            " 1 1 0 0 0 0 0 0 0 0 1 1 0 0 0 1 0 1 1 1 0 0 1 0 1 0 1 1 0 0 1 0 0 1 1 1 1\n",
            " 1 0 0 0 0 0 1 1 1 0 0 0 0 0 0 1 0 1 0 0 0 1 0 1 1 1]\n"
          ]
        }
      ],
      "source": [
        "alice_bases = randint(2, size=n)\n",
        "message = encode_message(alice_bits, alice_bases)\n",
        "print(alice_bases)"
      ]
    },
    {
      "cell_type": "markdown",
      "metadata": {
        "id": "4L7HK_mjuXjw"
      },
      "source": [
        "In this case, the first qubit in Alice's message is in the state $|+\\rangle$:"
      ]
    },
    {
      "cell_type": "code",
      "execution_count": null,
      "metadata": {
        "colab": {
          "base_uri": "https://localhost:8080/",
          "height": 94
        },
        "id": "IRwTNp3FuXjw",
        "outputId": "b7dbb115-972b-4def-9815-55736834a2d5"
      },
      "outputs": [
        {
          "output_type": "execute_result",
          "data": {
            "text/plain": [
              "     ┌───┐ ░ \n",
              "  q: ┤ H ├─░─\n",
              "     └───┘ ░ \n",
              "c: 1/════════\n",
              "             "
            ],
            "text/html": [
              "<pre style=\"word-wrap: normal;white-space: pre;background: #fff0;line-height: 1.1;font-family: &quot;Courier New&quot;,Courier,monospace\">     ┌───┐ ░ \n",
              "  q: ┤ H ├─░─\n",
              "     └───┘ ░ \n",
              "c: 1/════════\n",
              "             </pre>"
            ]
          },
          "metadata": {},
          "execution_count": 34
        }
      ],
      "source": [
        "message[0].draw()"
      ]
    },
    {
      "cell_type": "markdown",
      "metadata": {
        "id": "Kr68zikxuXjw"
      },
      "source": [
        "### Interception:"
      ]
    },
    {
      "cell_type": "code",
      "execution_count": null,
      "metadata": {
        "scrolled": true,
        "colab": {
          "base_uri": "https://localhost:8080/"
        },
        "id": "Qs__sSwtuXjw",
        "outputId": "a901157a-8f62-4d18-9745-52cd096d90c4"
      },
      "outputs": [
        {
          "output_type": "stream",
          "name": "stdout",
          "text": [
            "[1, 1, 1, 0, 0, 0, 0, 1, 1, 1, 0, 1, 1, 1, 0, 1, 0, 0, 0, 0, 0, 0, 0, 0, 0, 0, 1, 0, 1, 0, 0, 1, 1, 1, 1, 0, 0, 0, 0, 1, 1, 0, 0, 1, 1, 1, 1, 0, 1, 1, 0, 1, 1, 1, 1, 1, 1, 1, 0, 0, 0, 1, 1, 0, 0, 1, 0, 0, 1, 1, 0, 0, 1, 1, 0, 1, 1, 0, 1, 0, 1, 0, 0, 1, 0, 0, 1, 1, 0, 0, 1, 0, 1, 0, 0, 0, 1, 1, 1, 0]\n"
          ]
        }
      ],
      "source": [
        "eve_bases = randint(2, size=n)\n",
        "intercepted_message = decode_message(message, eve_bases)\n",
        "print(intercepted_message)"
      ]
    },
    {
      "cell_type": "markdown",
      "metadata": {
        "id": "ED4S9UWIuXjw"
      },
      "source": [
        "We can see the case of qubit 0 below; Eve's random choice of basis is not the same as Alice's, and this will change the qubit state from $|+\\rangle$, to a random state in the $Z$-basis, with 50% probability of $|0\\rangle$ or $|1\\rangle$:"
      ]
    },
    {
      "cell_type": "code",
      "execution_count": null,
      "metadata": {
        "colab": {
          "base_uri": "https://localhost:8080/",
          "height": 94
        },
        "id": "AAkSsRHWuXjx",
        "outputId": "d8e2a655-22fb-4d5f-9a8b-1847bbe9d862"
      },
      "outputs": [
        {
          "output_type": "execute_result",
          "data": {
            "text/plain": [
              "     ┌───┐ ░ ┌─┐\n",
              "  q: ┤ H ├─░─┤M├\n",
              "     └───┘ ░ └╥┘\n",
              "c: 1/═════════╩═\n",
              "              0 "
            ],
            "text/html": [
              "<pre style=\"word-wrap: normal;white-space: pre;background: #fff0;line-height: 1.1;font-family: &quot;Courier New&quot;,Courier,monospace\">     ┌───┐ ░ ┌─┐\n",
              "  q: ┤ H ├─░─┤M├\n",
              "     └───┘ ░ └╥┘\n",
              "c: 1/═════════╩═\n",
              "              0 </pre>"
            ]
          },
          "metadata": {},
          "execution_count": 36
        }
      ],
      "source": [
        "message[0].draw()"
      ]
    },
    {
      "cell_type": "markdown",
      "metadata": {
        "id": "24ImnP_WuXjx"
      },
      "source": [
        "### 4.3 Step 3:\n",
        "\n",
        "Eve then passes on the qubits to Bob, who measures them at random. In this case, Bob chose (by chance) to measure in the same basis Alice prepared the qubit in. Without interception, Bob 100% measure `0`, but because Eve tried to read the message he now has a 50% chance of measuring `1` instead."
      ]
    },
    {
      "cell_type": "code",
      "execution_count": null,
      "metadata": {
        "scrolled": true,
        "colab": {
          "base_uri": "https://localhost:8080/",
          "height": 94
        },
        "id": "bOVZc2X8uXjx",
        "outputId": "167dfaf2-9dbb-404f-c475-97e6c6b7c4cd"
      },
      "outputs": [
        {
          "output_type": "execute_result",
          "data": {
            "text/plain": [
              "     ┌───┐ ░ ┌─┐┌───┐┌─┐\n",
              "  q: ┤ H ├─░─┤M├┤ H ├┤M├\n",
              "     └───┘ ░ └╥┘└───┘└╥┘\n",
              "c: 1/═════════╩═══════╩═\n",
              "              0       0 "
            ],
            "text/html": [
              "<pre style=\"word-wrap: normal;white-space: pre;background: #fff0;line-height: 1.1;font-family: &quot;Courier New&quot;,Courier,monospace\">     ┌───┐ ░ ┌─┐┌───┐┌─┐\n",
              "  q: ┤ H ├─░─┤M├┤ H ├┤M├\n",
              "     └───┘ ░ └╥┘└───┘└╥┘\n",
              "c: 1/═════════╩═══════╩═\n",
              "              0       0 </pre>"
            ]
          },
          "metadata": {},
          "execution_count": 37
        }
      ],
      "source": [
        "bob_bases = randint(2, size=n)\n",
        "bob_results = decode_message(message, bob_bases)\n",
        "message[0].draw()"
      ]
    },
    {
      "cell_type": "markdown",
      "metadata": {
        "id": "Eq-f_pJ1uXjy"
      },
      "source": [
        "### 4.4 Step 4:\n",
        "\n",
        "Bob and Alice reveal their basis choices, and discard the useless bits:"
      ]
    },
    {
      "cell_type": "code",
      "execution_count": null,
      "metadata": {
        "id": "nloqZQK5uXjy"
      },
      "outputs": [],
      "source": [
        "bob_key = remove_garbage(alice_bases, bob_bases, bob_results)\n",
        "alice_key = remove_garbage(alice_bases, bob_bases, alice_bits)"
      ]
    },
    {
      "cell_type": "markdown",
      "metadata": {
        "id": "lI0Ox9GQuXjy"
      },
      "source": [
        "### 4.5 Step 5:\n",
        "\n",
        "Bob and Alice compare the same random selection of their keys to see if the qubits were intercepted:"
      ]
    },
    {
      "cell_type": "code",
      "execution_count": null,
      "metadata": {
        "colab": {
          "base_uri": "https://localhost:8080/"
        },
        "id": "g0BAc0truXjy",
        "outputId": "997683bf-0ba5-4549-c9d8-b698a3dd456b"
      },
      "outputs": [
        {
          "output_type": "stream",
          "name": "stdout",
          "text": [
            "  bob_sample = [1, 1, 1, 0, 1, 1, 0, 1, 0, 0, 0, 1, 1, 1, 0]\n",
            "alice_sample = [1, 1, 0, 0, 1, 0, 0, 0, 0, 0, 0, 1, 0, 0, 0]\n"
          ]
        }
      ],
      "source": [
        "sample_size = 15\n",
        "bit_selection = randint(n, size=sample_size)\n",
        "bob_sample = sample_bits(bob_key, bit_selection)\n",
        "print(\"  bob_sample = \" + str(bob_sample))\n",
        "alice_sample = sample_bits(alice_key, bit_selection)\n",
        "print(\"alice_sample = \"+ str(alice_sample))"
      ]
    },
    {
      "cell_type": "code",
      "execution_count": null,
      "metadata": {
        "colab": {
          "base_uri": "https://localhost:8080/"
        },
        "id": "b_NkL1SKuXjz",
        "outputId": "22f35d1f-a34c-4caa-cd32-5f57e1ff746d"
      },
      "outputs": [
        {
          "output_type": "execute_result",
          "data": {
            "text/plain": [
              "False"
            ]
          },
          "metadata": {},
          "execution_count": 40
        }
      ],
      "source": [
        "bob_sample == alice_sample"
      ]
    },
    {
      "cell_type": "markdown",
      "metadata": {
        "jp-MarkdownHeadingCollapsed": true,
        "tags": [],
        "id": "9Ei8F4puuXjz"
      },
      "source": [
        "Bob's key and Alice's key do not match because Eve tried to read the message between steps 2 and 3, and changed the qubits' states. For all Alice and Bob know, this could be due to noise in the channel, but either way they must throw away all their results and try again- Eve's interception attempt has failed."
      ]
    },
    {
      "cell_type": "code",
      "source": [
        "from google.colab import drive\n",
        "drive.mount('/content/drive')"
      ],
      "metadata": {
        "colab": {
          "base_uri": "https://localhost:8080/"
        },
        "id": "EZ-OuK8Z0UuZ",
        "outputId": "cfb9f48b-73f6-4d89-b8bd-8657d1fe9daf"
      },
      "execution_count": null,
      "outputs": [
        {
          "output_type": "stream",
          "name": "stdout",
          "text": [
            "Mounted at /content/drive\n"
          ]
        }
      ]
    },
    {
      "cell_type": "markdown",
      "metadata": {
        "id": "XAMpZ1hFuXjz"
      },
      "source": [
        "## 5. Risk Analysis\n",
        "\n",
        "For this type of interception, there is a small chance that Bob and Alice's samples could match, and Alice sends her vulnerable message through Eve's channel. \n",
        "\n",
        "- For Alice and Bob to use a qubit's result, they must both have chosen the same basis. If Eve chooses this basis too, she will successfully intercept this bit without introducing any error. There is a 50% chance of this happening.\n",
        "- If Eve chooses the *wrong* basis, i.e. a different basis to Alice and Bob, there is still a 50% chance Bob will measure the value Alice was trying to send. In this case, the interception also goes undetected.\n",
        "- But if Eve chooses the *wrong* basis, i.e. a different basis to Alice and Bob, there is a 50% chance Bob will not measure the value Alice was trying to send, and this *will* introduce an error into their keys.\n",
        "\n",
        "![](https://drive.google.com/uc?export=view&id=10WWmt50f8hLtKEfRboPYkDT2G-vrtK94)\n",
        "\n",
        "If Alice and Bob compare 1 bit from their keys, the probability the bits will match is $0.75$, and if so they will not notice Eve's interception. If they measure 2 bits, there is a $0.75^2 = 0.5625$ chance of the interception not being noticed. We can see that the probability of Eve going undetected can be calculated from the number of bits ($x$) Alice and Bob chose to compare:\n",
        "\n",
        "$$ P(\\text{undetected}) = 0.75^x $$\n",
        "\n",
        "If we decide to compare 15 bits as we did above, there is a 1.3% chance Eve will be undetected. On increasing bit size to 50 bits, we have a 0.00006% chance of being spied upon unknowingly."
      ]
    }
  ],
  "metadata": {
    "kernelspec": {
      "display_name": "Python 3 (ipykernel)",
      "language": "python",
      "name": "python3"
    },
    "language_info": {
      "codemirror_mode": {
        "name": "ipython",
        "version": 3
      },
      "file_extension": ".py",
      "mimetype": "text/x-python",
      "name": "python",
      "nbconvert_exporter": "python",
      "pygments_lexer": "ipython3",
      "version": "3.8.13"
    },
    "colab": {
      "provenance": []
    }
  },
  "nbformat": 4,
  "nbformat_minor": 0
}